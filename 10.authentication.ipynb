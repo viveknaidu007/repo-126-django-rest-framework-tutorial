{
 "cells": [
  {
   "cell_type": "code",
   "execution_count": null,
   "metadata": {},
   "outputs": [],
   "source": []
  },
  {
   "cell_type": "markdown",
   "metadata": {},
   "source": [
    "# authentication"
   ]
  },
  {
   "cell_type": "code",
   "execution_count": null,
   "metadata": {},
   "outputs": [],
   "source": [
    "# manaki requests vasthu unatayi , manaki crediatials anni identify chestahdi , if all matches it will allow or it wont allow "
   ]
  },
  {
   "cell_type": "markdown",
   "metadata": {},
   "source": [
    "![p](img\\img37.png)"
   ]
  },
  {
   "cell_type": "markdown",
   "metadata": {},
   "source": [
    "# note : Don't forget that authentication by itself wont allow or disallow an incoming request . it simply identifies the credentilas that the request was made with "
   ]
  },
  {
   "cell_type": "markdown",
   "metadata": {},
   "source": [
    "# type of authentication :\n",
    "1. Basic Authentication\n",
    "2. Token Authentication\n",
    "3. Session Authentication\n",
    "4. RemoteUserAuthentication"
   ]
  },
  {
   "cell_type": "markdown",
   "metadata": {},
   "source": [
    "![p](img\\img38.png)"
   ]
  },
  {
   "cell_type": "code",
   "execution_count": null,
   "metadata": {},
   "outputs": [],
   "source": [
    "# steps :\n",
    "\n",
    "1. add the app name , rest framework at settings.py\n",
    "\n",
    "2. add the models in models.py \n",
    "\n",
    "3. create srializzers.py in the app and add the code\n",
    "\n",
    "4. now register the model in admin.py\n",
    "\n",
    "5. run migrations , createsuperuser\n",
    "\n",
    "6. add the code in views.py"
   ]
  },
  {
   "cell_type": "code",
   "execution_count": null,
   "metadata": {},
   "outputs": [],
   "source": [
    "# now updating the code for doing for authentication code"
   ]
  },
  {
   "cell_type": "code",
   "execution_count": null,
   "metadata": {},
   "outputs": [],
   "source": [
    "# now : views.py\n",
    "\n",
    "from django.shortcuts import render\n",
    "from rest_framework.response import Response\n",
    "from .models import *\n",
    "from .serializers import *\n",
    "from rest_framework import status\n",
    "from rest_framework import viewsets\n",
    "from rest_framework.authentication import BasicAuthentication\n",
    "from rest_framework.permissions import IsAuthenticated\n",
    "\n",
    "\n",
    "class Studentviewset(viewsets.ModelViewSet):\n",
    "    queryset=Student.objects.all()\n",
    "    serializer_class=StudentSerializer\n",
    "    authentication_classes=[BasicAuthentication]\n",
    "    permission_classes=[IsAuthenticated]"
   ]
  },
  {
   "cell_type": "code",
   "execution_count": null,
   "metadata": {},
   "outputs": [],
   "source": [
    "# now we can apply this in gliballi by adding this in settings.py :\n",
    "\n",
    "\n",
    "\n",
    "ST_FRAMEWORK={\n",
    "    \"DEFAULT_AUTHENTICATION_CLASSES\":[\"rest_framework.authentication.BasicAuthentication\"],\n",
    "    \"DEFAULT_PERMISSION_CLASSES\":[\"rest_framework.permissions.IsAuthenticated\"]\n",
    "}\n"
   ]
  },
  {
   "cell_type": "code",
   "execution_count": null,
   "metadata": {},
   "outputs": [],
   "source": [
    "# see if working  , create another usr and delete old one , now new one should get the data of old ones"
   ]
  },
  {
   "cell_type": "code",
   "execution_count": null,
   "metadata": {},
   "outputs": [],
   "source": []
  },
  {
   "cell_type": "markdown",
   "metadata": {},
   "source": [
    "# session Authentication\n"
   ]
  },
  {
   "cell_type": "markdown",
   "metadata": {},
   "source": [
    "![p](img\\img39.png)"
   ]
  },
  {
   "cell_type": "code",
   "execution_count": null,
   "metadata": {},
   "outputs": [],
   "source": [
    "#views.py\n",
    "\n",
    "from django.shortcuts import render\n",
    "from rest_framework.response import Response\n",
    "from .models import *\n",
    "from .serializers import *\n",
    "from rest_framework import status\n",
    "from rest_framework import viewsets\n",
    "from rest_framework.authentication import SessionAuthentication # we have to change this \n",
    "from rest_framework.permissions import IsAuthenticated\n",
    "\n",
    "\n",
    "class Studentviewset(viewsets.ModelViewSet):\n",
    "    queryset=Student.objects.all()\n",
    "    serializer_class=StudentSerializer\n",
    "    authentication_classes=[SessionAuthentication]  # we have to change here\n",
    "    permission_classes=[IsAuthenticated]"
   ]
  },
  {
   "cell_type": "code",
   "execution_count": null,
   "metadata": {},
   "outputs": [],
   "source": [
    "# urls.py :\n",
    "\n",
    "from django.contrib import admin\n",
    "from django.urls import path , include\n",
    "from Book import views\n",
    "from rest_framework.routers import DefaultRouter\n",
    "\n",
    "router=DefaultRouter()\n",
    "router.register(\"data\",views.Studentviewset,basename=\"student\")\n",
    "\n",
    "urlpatterns = [\n",
    "    path(\"admin/\", admin.site.urls),\n",
    "    path(\"\",include(router.urls)),\n",
    "    path(\"auth/\",include(\"rest_framework.urls\",namespace=\"rest_framework\"))\n",
    "]\n"
   ]
  },
  {
   "cell_type": "code",
   "execution_count": null,
   "metadata": {},
   "outputs": [],
   "source": [
    "# go too the : http://127.0.0.1:8000/data/\n",
    "\n",
    "# it will display like this :\n",
    "\n",
    "\"\"\"\n",
    "{\n",
    "    \"detail\": \"Authentication credentials were not provided.\"\n",
    "}\n",
    "\"\"\""
   ]
  },
  {
   "cell_type": "code",
   "execution_count": null,
   "metadata": {},
   "outputs": [],
   "source": [
    "# now update this :\n",
    "\n",
    "# urls.py :\n",
    "\n",
    "from django.contrib import admin\n",
    "from django.urls import path , include\n",
    "from Book import views\n",
    "from rest_framework.routers import DefaultRouter\n",
    "\n",
    "router=DefaultRouter()\n",
    "router.register(\"data\",views.Studentviewset,basename=\"student\")\n",
    "\n",
    "urlpatterns = [\n",
    "    path(\"admin/\", admin.site.urls),\n",
    "    path(\"\",include(router.urls)),\n",
    "    path(\"auth/\",include(\"rest_framework.urls\",namespace=\"rest_framework\"))\n",
    "]\n"
   ]
  },
  {
   "cell_type": "code",
   "execution_count": null,
   "metadata": {},
   "outputs": [],
   "source": [
    "# now click on the : http://127.0.0.1:8000/data/\n",
    "\n",
    "# click on login: and give admin details \n",
    "\n",
    "# it wiil display the details"
   ]
  },
  {
   "cell_type": "code",
   "execution_count": null,
   "metadata": {},
   "outputs": [],
   "source": [
    "# now update this for next:"
   ]
  },
  {
   "cell_type": "code",
   "execution_count": null,
   "metadata": {},
   "outputs": [],
   "source": [
    "views.py :\n",
    "\n",
    "from django.shortcuts import render\n",
    "from rest_framework.response import Response\n",
    "from .models import *\n",
    "from .serializers import *\n",
    "from rest_framework import status\n",
    "from rest_framework import viewsets\n",
    "from rest_framework.authentication import SessionAuthentication\n",
    "from rest_framework.permissions import IsAuthenticated,IsAdminUser # here updated\n",
    "\n",
    "\n",
    "class Studentviewset(viewsets.ModelViewSet):\n",
    "    queryset=Student.objects.all()\n",
    "    serializer_class=StudentSerializer\n",
    "    authentication_classes=[SessionAuthentication]\n",
    "    permission_classes=[IsAdminUser]  #here updated"
   ]
  },
  {
   "cell_type": "code",
   "execution_count": null,
   "metadata": {},
   "outputs": [],
   "source": [
    "# now create new , createsuperuser,\n",
    "\n",
    "# python manage.py createsuperuser"
   ]
  },
  {
   "cell_type": "code",
   "execution_count": null,
   "metadata": {},
   "outputs": [],
   "source": [
    "# now to here  : http://127.0.0.1:8000/data/\n",
    "\n",
    "# click on logout\n",
    "\n",
    "# on login with new user admin and password created\n",
    "\n",
    "# now it will display data"
   ]
  },
  {
   "cell_type": "markdown",
   "metadata": {},
   "source": [
    "# now \n"
   ]
  },
  {
   "cell_type": "code",
   "execution_count": null,
   "metadata": {},
   "outputs": [],
   "source": [
    "views.py :\n",
    "\n",
    "from django.shortcuts import render\n",
    "from rest_framework.response import Response\n",
    "from .models import *\n",
    "from .serializers import *\n",
    "from rest_framework import status\n",
    "from rest_framework import viewsets\n",
    "\n",
    "class Studentviewset(viewsets.ModelViewSet):\n",
    "    queryset=Student.objects.all()\n",
    "    serializer_class=StudentSerializer\n"
   ]
  },
  {
   "cell_type": "code",
   "execution_count": null,
   "metadata": {},
   "outputs": [],
   "source": [
    "urls.py :\n",
    "\n",
    "\n",
    "from django.contrib import admin\n",
    "from django.urls import path , include\n",
    "from Book import views\n",
    "from rest_framework.routers import DefaultRouter\n",
    "\n",
    "router=DefaultRouter()\n",
    "router.register(\"studentapi\",views.Studentviewset,basename=\"student\")\n",
    "\n",
    "urlpatterns = [\n",
    "    path(\"admin/\", admin.site.urls),\n",
    "    path(\"\",include(router.urls)),\n",
    "]\n"
   ]
  },
  {
   "cell_type": "code",
   "execution_count": null,
   "metadata": {},
   "outputs": [],
   "source": [
    "# serializers.py :\n",
    "\n",
    "\n",
    "from rest_framework import serializers\n",
    "from .models import *\n",
    "\n",
    "class StudentSerializer(serializers.HyperlinkedModelSerializer):\n",
    "    class Meta:\n",
    "        model = Student\n",
    "        fields = \"__all__\""
   ]
  },
  {
   "cell_type": "code",
   "execution_count": null,
   "metadata": {},
   "outputs": [],
   "source": [
    "# now go to here : http://127.0.0.1:8000/admin/\n",
    "\n",
    "# add the data in admin ur wish ,\n",
    "\n",
    "# now click on : http://127.0.0.1:8000/studentapi/\n",
    "\n",
    "#it will display the details\n",
    "\n",
    "# go to here : http://127.0.0.1:8000/studentapi/8/ , it will display specific details"
   ]
  }
 ],
 "metadata": {
  "language_info": {
   "name": "python"
  }
 },
 "nbformat": 4,
 "nbformat_minor": 2
}
