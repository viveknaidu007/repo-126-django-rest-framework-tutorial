{
 "cells": [
  {
   "cell_type": "code",
   "execution_count": null,
   "metadata": {},
   "outputs": [],
   "source": [
    "# CRUD OPERATIONS:\n",
    "\n"
   ]
  },
  {
   "cell_type": "code",
   "execution_count": null,
   "metadata": {},
   "outputs": [],
   "source": [
    "#im  creating nooks project for crud actions : \n",
    "# django-admin startproject books\n",
    "# django-admin startapp book"
   ]
  },
  {
   "cell_type": "code",
   "execution_count": null,
   "metadata": {},
   "outputs": [],
   "source": [
    "# add in : settings.py at installed_apps\n",
    "\n",
    "# 1. rest_framework\n",
    "# 2. book\n"
   ]
  },
  {
   "cell_type": "code",
   "execution_count": null,
   "metadata": {},
   "outputs": [],
   "source": [
    "# now books.urls.py:\n",
    "\n",
    "#before :\n",
    "\n",
    "from django.contrib import admin\n",
    "from django.urls import path\n",
    "\n",
    "urlpatterns = [\n",
    "    path(\"admin/\", admin.site.urls),\n",
    "]\n",
    "\n",
    "\n",
    "#after :\n",
    "\n",
    "from django.contrib import admin\n",
    "from django.urls import path,include\n",
    "\n",
    "urlpatterns = [\n",
    "    path(\"admin/\", admin.site.urls),\n",
    "    path(\"api/\", include()),\n",
    "]\n"
   ]
  },
  {
   "cell_type": "code",
   "execution_count": null,
   "metadata": {},
   "outputs": [],
   "source": [
    "# now create new file urls.py in book app:\n",
    "\n"
   ]
  },
  {
   "cell_type": "code",
   "execution_count": null,
   "metadata": {},
   "outputs": [],
   "source": [
    "# now update this in project urls\n",
    "\n",
    "from django.contrib import admin\n",
    "from django.urls import path,include\n",
    "\n",
    "urlpatterns = [\n",
    "    path(\"admin/\", admin.site.urls),\n",
    "    path(\"api/\", include(\"book.urls\")),\n",
    "]\n"
   ]
  },
  {
   "cell_type": "code",
   "execution_count": null,
   "metadata": {},
   "outputs": [],
   "source": [
    "# views lo manaki functionsuntae "
   ]
  },
  {
   "cell_type": "code",
   "execution_count": null,
   "metadata": {},
   "outputs": [],
   "source": [
    "# book.views.py :\n",
    "\n",
    "from django.shortcuts import render\n",
    "\n",
    "# Create your views here.\n",
    "def Booklist(request):\n",
    "    return \"view\""
   ]
  },
  {
   "cell_type": "code",
   "execution_count": null,
   "metadata": {},
   "outputs": [],
   "source": [
    "# book.urls.py :\n",
    "\n",
    "\n",
    "from django.urls import path\n",
    "from .views import *\n",
    "\n",
    "urlpatterns = [\n",
    "    path(\"\",Booklist)\n",
    "]\n"
   ]
  },
  {
   "cell_type": "code",
   "execution_count": null,
   "metadata": {},
   "outputs": [],
   "source": []
  },
  {
   "cell_type": "code",
   "execution_count": null,
   "metadata": {},
   "outputs": [],
   "source": [
    "# now moddels , models antey fields  ani antam , models lo class lo rastam"
   ]
  },
  {
   "cell_type": "code",
   "execution_count": null,
   "metadata": {},
   "outputs": [],
   "source": [
    "# models.py :\n",
    "\n",
    "from django.db import models\n",
    "\n",
    "# Create your models here.\n",
    "class BooksModel(models.Model):\n",
    "    name=models.CharField(max_length=50)\n",
    "    author=models.CharField(max_length=50)\n",
    "    read_by=models.CharField(max_length=50)"
   ]
  },
  {
   "cell_type": "code",
   "execution_count": null,
   "metadata": {},
   "outputs": [],
   "source": [
    "# now we have to do register models in admin : admin.py\n",
    "\n",
    "from django.contrib import admin\n",
    "from .models import *\n",
    "# Register your models here.\n",
    "\n",
    "admin.site.register(Books.Model)\n"
   ]
  },
  {
   "cell_type": "code",
   "execution_count": null,
   "metadata": {},
   "outputs": [],
   "source": [
    "# now :\n",
    "\n",
    "# python manage.py makemigrations\n",
    "# python manage.py migrate"
   ]
  },
  {
   "cell_type": "code",
   "execution_count": null,
   "metadata": {},
   "outputs": [],
   "source": [
    "# now :\n",
    "\n",
    "# python manage.py createsuperuser"
   ]
  },
  {
   "cell_type": "code",
   "execution_count": null,
   "metadata": {},
   "outputs": [],
   "source": [
    "# now :\n",
    "\n",
    "# python manage.py runserver"
   ]
  },
  {
   "cell_type": "code",
   "execution_count": null,
   "metadata": {},
   "outputs": [],
   "source": [
    "# now go to this : http://127.0.0.1:8000/admin/\n",
    "\n",
    "# add the datils "
   ]
  },
  {
   "cell_type": "code",
   "execution_count": null,
   "metadata": {},
   "outputs": [],
   "source": [
    "# now . hence we are down with models , views , admin register etc\n",
    "\n",
    "# now we are going to serializers concept\n"
   ]
  },
  {
   "cell_type": "code",
   "execution_count": null,
   "metadata": {},
   "outputs": [],
   "source": [
    "# create serialixer.py in app\n",
    "\n",
    "# serializers what it will do ? it will convert the datat into json or xml\n",
    "\n",
    "from rest_framework import serializers\n",
    "from .models import *\n",
    "\n",
    "class BookSerializer(serializers.ModelSerializer):\n",
    "    class Meta:\n",
    "        model=BooksModel\n",
    "        fiels='__all__'       "
   ]
  },
  {
   "cell_type": "code",
   "execution_count": null,
   "metadata": {},
   "outputs": [],
   "source": [
    "# now updating the view.py :\n",
    "\n",
    "##before:\n",
    "\n",
    "from django.shortcuts import render\n",
    "\n",
    "# Create your views here.\n",
    "def Booklist(request):\n",
    "    return \"view\"\n",
    "\n",
    "\n",
    "## after :\n",
    "\n",
    "\n",
    "from django.shortcuts import render\n",
    "from .serializer import *\n",
    "from .models import *\n",
    "from rest_framework.decorators import api_view\n",
    "from rest_framework.response import Response\n",
    "\n",
    "# Create your views here.\n",
    "@api_view(['GET'])\n",
    "def Booklist(request):\n",
    "    booksobj=BooksModel.objects.all()\n",
    "    serializer=BookSerializer(booksobj,many=True)\n",
    "    return Response(serializer.data)"
   ]
  },
  {
   "cell_type": "code",
   "execution_count": null,
   "metadata": {},
   "outputs": [],
   "source": [
    "# hence we r reading the data from dataabse using get method"
   ]
  },
  {
   "cell_type": "markdown",
   "metadata": {},
   "source": [
    "![p](img\\img9.png)"
   ]
  },
  {
   "cell_type": "markdown",
   "metadata": {},
   "source": [
    "# GET "
   ]
  },
  {
   "cell_type": "code",
   "execution_count": null,
   "metadata": {},
   "outputs": [],
   "source": [
    "# now we r doing for POST method also : views.py :\n",
    "\n",
    "\n",
    "from django.shortcuts import render\n",
    "from .serializer import *\n",
    "from .models import *\n",
    "from rest_framework.decorators import api_view\n",
    "from rest_framework.response import Response\n",
    "\n",
    "# Create your views here.\n",
    "\n",
    "#read\n",
    "@api_view(['GET'])\n",
    "def Booklist(request):\n",
    "    booksobj=BooksModel.objects.all() #queryset\n",
    "    serializer=BookSerializer(booksobj,many=True)\n",
    "    return Response(serializer.data)\n",
    "\n",
    "#create\n",
    "@api_view(['POST'])\n",
    "def post_Book(request):\n",
    "    booksobj=BooksModel.objects.all() #queryset\n",
    "    serializer=BookSerializer(data=request.data)\n",
    "    if serializer.is_valid():\n",
    "        serializer.save()\n",
    "    return Response(serializer.data)\n"
   ]
  },
  {
   "cell_type": "code",
   "execution_count": null,
   "metadata": {},
   "outputs": [],
   "source": [
    "# now updating urls.py :\n",
    "\n",
    "from django.urls import path\n",
    "from .views import *\n",
    "\n",
    "urlpatterns = [\n",
    "    path(\"\",Booklist),\n",
    "    path(\"add/\",post_Book),\n",
    "]\n"
   ]
  },
  {
   "cell_type": "code",
   "execution_count": null,
   "metadata": {},
   "outputs": [],
   "source": [
    "# now the django :\n",
    "\n",
    "# go to here : http://127.0.0.1:8000/api/add/\n",
    "\n",
    "# add the data in json format and press post\n"
   ]
  },
  {
   "cell_type": "markdown",
   "metadata": {},
   "source": [
    "![p](img\\img10.png)"
   ]
  },
  {
   "cell_type": "code",
   "execution_count": null,
   "metadata": {},
   "outputs": [],
   "source": [
    "# now reload this : http://127.0.0.1:8000/api/\n",
    "\n",
    "# it will appear the data"
   ]
  },
  {
   "cell_type": "markdown",
   "metadata": {},
   "source": [
    "![p](img\\img11.png)"
   ]
  },
  {
   "cell_type": "code",
   "execution_count": null,
   "metadata": {},
   "outputs": [],
   "source": []
  },
  {
   "cell_type": "markdown",
   "metadata": {},
   "source": [
    "# Update"
   ]
  },
  {
   "cell_type": "code",
   "execution_count": null,
   "metadata": {},
   "outputs": [],
   "source": [
    "# now we are adding update method:"
   ]
  },
  {
   "cell_type": "code",
   "execution_count": null,
   "metadata": {},
   "outputs": [],
   "source": [
    "# views.py :\n",
    "\n",
    "from django.shortcuts import render\n",
    "from .serializer import *\n",
    "from .models import *\n",
    "from rest_framework.decorators import api_view\n",
    "from rest_framework.response import Response\n",
    "\n",
    "# Create your views here.\n",
    "\n",
    "#read\n",
    "@api_view(['GET'])\n",
    "def Booklist(request):\n",
    "    booksobj=BooksModel.objects.all() #queryset\n",
    "    serializer=BookSerializer(booksobj,many=True)\n",
    "    return Response(serializer.data)\n",
    "\n",
    "#create\n",
    "@api_view(['POST'])\n",
    "def post_Book(request):\n",
    "    booksobj=BooksModel.objects.all() #queryset\n",
    "    serializer=BookSerializer(data=request.data)\n",
    "    if serializer.is_valid():\n",
    "        serializer.save()\n",
    "    return Response(serializer.data)\n",
    "\n",
    "#update\n",
    "@api_view(['POST'])\n",
    "def update_Book(request,id):\n",
    "    booksobj=BooksModel.objects.all() #queryset\n",
    "    serializer=BookSerializer(instance=booksobj,data=request.data)\n",
    "    if serializer.is_valid():\n",
    "        serializer.save()\n",
    "    return Response(serializer.data)\n"
   ]
  },
  {
   "cell_type": "code",
   "execution_count": null,
   "metadata": {},
   "outputs": [],
   "source": [
    "# updating urls.py :\n",
    "\n",
    "\n",
    "from django.urls import path\n",
    "from .views import *\n",
    "\n",
    "urlpatterns = [\n",
    "    path(\"\",Booklist),\n",
    "    path(\"add/\",post_Book),\n",
    "    path(\"update/<int:id>/\",update_Book),\n",
    "]\n"
   ]
  },
  {
   "cell_type": "code",
   "execution_count": null,
   "metadata": {},
   "outputs": [],
   "source": [
    "#before"
   ]
  },
  {
   "cell_type": "markdown",
   "metadata": {},
   "source": [
    "![p](img\\img12.png)"
   ]
  },
  {
   "cell_type": "code",
   "execution_count": null,
   "metadata": {},
   "outputs": [],
   "source": [
    "#after:"
   ]
  },
  {
   "cell_type": "code",
   "execution_count": null,
   "metadata": {},
   "outputs": [],
   "source": []
  },
  {
   "cell_type": "code",
   "execution_count": null,
   "metadata": {},
   "outputs": [],
   "source": [
    "#process :"
   ]
  },
  {
   "cell_type": "markdown",
   "metadata": {},
   "source": [
    "![p](img\\img13.png)"
   ]
  }
 ],
 "metadata": {
  "language_info": {
   "name": "python"
  }
 },
 "nbformat": 4,
 "nbformat_minor": 2
}
