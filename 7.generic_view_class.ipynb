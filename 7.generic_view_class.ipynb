{
 "cells": [
  {
   "cell_type": "code",
   "execution_count": null,
   "metadata": {},
   "outputs": [],
   "source": [
    "# concrete generic view class"
   ]
  },
  {
   "cell_type": "code",
   "execution_count": null,
   "metadata": {},
   "outputs": [],
   "source": []
  },
  {
   "cell_type": "markdown",
   "metadata": {},
   "source": [
    "![p](img\\img26.png)"
   ]
  },
  {
   "cell_type": "markdown",
   "metadata": {},
   "source": [
    "![p](img\\img27.png)"
   ]
  },
  {
   "cell_type": "markdown",
   "metadata": {},
   "source": [
    "![p](img\\img28.png)"
   ]
  },
  {
   "cell_type": "markdown",
   "metadata": {},
   "source": [
    "![p](img\\img29.png)"
   ]
  },
  {
   "cell_type": "markdown",
   "metadata": {},
   "source": [
    "![p](img\\img30.png)"
   ]
  },
  {
   "cell_type": "markdown",
   "metadata": {},
   "source": [
    "![p](img\\img31.png)"
   ]
  },
  {
   "cell_type": "markdown",
   "metadata": {},
   "source": [
    "![p](img\\img32.png)"
   ]
  },
  {
   "cell_type": "code",
   "execution_count": null,
   "metadata": {},
   "outputs": [],
   "source": [
    "django-admin startproject Books\n",
    "\n",
    "cd Books\n",
    "\n",
    "python manage.py startapp Book\n"
   ]
  },
  {
   "cell_type": "code",
   "execution_count": null,
   "metadata": {},
   "outputs": [],
   "source": [
    "# first reguster in setting.py:\n",
    "\n",
    "    \"rest_framework\",\n",
    "    \"Book\"\n"
   ]
  },
  {
   "cell_type": "code",
   "execution_count": null,
   "metadata": {},
   "outputs": [],
   "source": [
    "# now first we create models in : models.py\n",
    "\n",
    "from django.db import models\n",
    "\n",
    "# Create your models here.\n",
    "\n",
    "class Student(models.Model):\n",
    "    name = models.CharField(max_length=50)\n",
    "    roll = models.IntegerField()\n",
    "    city = models.CharField(max_length=50)"
   ]
  },
  {
   "cell_type": "code",
   "execution_count": null,
   "metadata": {},
   "outputs": [],
   "source": [
    "# now we register in admin : admin.py\n",
    "\n",
    "from django.contrib import admin\n",
    "from .models import *\n",
    "\n",
    "# Register your models here.\n",
    "admin.site.register(Student)"
   ]
  },
  {
   "cell_type": "code",
   "execution_count": null,
   "metadata": {},
   "outputs": [],
   "source": [
    "# now :\n",
    "\n",
    "python manage.py makemigrations\n",
    "\n",
    "python manage.py migrate"
   ]
  },
  {
   "cell_type": "code",
   "execution_count": null,
   "metadata": {},
   "outputs": [],
   "source": [
    "# now create superuser :\n",
    "\n",
    "python manage.py createsuperuser\n",
    "\n"
   ]
  },
  {
   "cell_type": "code",
   "execution_count": null,
   "metadata": {},
   "outputs": [],
   "source": []
  },
  {
   "cell_type": "code",
   "execution_count": null,
   "metadata": {},
   "outputs": [],
   "source": [
    "# create serialiers.py file in app : add this :\n",
    "\n",
    "from rest_framework import serializers\n",
    "from .models import *\n",
    "\n",
    "class StudentSerializers(serializers.ModelSerializer):\n",
    "    class Meta:\n",
    "        model=Student\n",
    "        fields=\"__all__\""
   ]
  },
  {
   "cell_type": "code",
   "execution_count": null,
   "metadata": {},
   "outputs": [],
   "source": [
    "# view.py : \n",
    "\n",
    "from django.shortcuts import render\n",
    "from .models import *\n",
    "from .serializers import *\n",
    "from rest_framework.generics import ListAPIView\n",
    "\n",
    "# Create your views here.\n",
    "class StudentList(ListAPIview):\n",
    "    query=student.objects.all()\n",
    "    serializer_class=StudentSerializer"
   ]
  },
  {
   "cell_type": "code",
   "execution_count": null,
   "metadata": {},
   "outputs": [],
   "source": [
    "# urls.py :\n",
    "\n",
    "from django.contrib import admin\n",
    "from django.urls import path\n",
    "from Book import views\n",
    "\n",
    "urlpatterns = [\n",
    "    path(\"admin/\", admin.site.urls),\n",
    "    path(\"api/\", views.StudentList.as_view()),\n",
    "]\n"
   ]
  },
  {
   "cell_type": "code",
   "execution_count": null,
   "metadata": {},
   "outputs": [],
   "source": [
    "# running  the code: \n",
    "\n",
    "http://127.0.0.1:8000/admin/\n",
    "\n",
    "# add the student details :\n",
    "\n",
    "# and it will display here :\n",
    "http://127.0.0.1:8000/api/"
   ]
  },
  {
   "cell_type": "code",
   "execution_count": null,
   "metadata": {},
   "outputs": [],
   "source": [
    "# now : \n"
   ]
  },
  {
   "cell_type": "code",
   "execution_count": null,
   "metadata": {},
   "outputs": [],
   "source": [
    "# update this views.py :\n",
    "\n",
    "from django.shortcuts import render\n",
    "from .models import *\n",
    "from .serializers import *\n",
    "from rest_framework.generics import ListAPIView\n",
    "\n",
    "# Create your views here.\n",
    "class StudentList(ListAPIView):\n",
    "    queryset=Student.objects.all()\n",
    "    serializer_class=StudentSerializers\n",
    "\n",
    "\n",
    "# Create your views here.\n",
    "class StudenCreate(CreateAPIView):\n",
    "    queryset=Student.objects.all()\n",
    "    serializer_class=StudentSerializers"
   ]
  },
  {
   "cell_type": "code",
   "execution_count": null,
   "metadata": {},
   "outputs": [],
   "source": [
    "# update this : urls.py\n",
    "\n",
    "from django.contrib import admin\n",
    "from django.urls import path\n",
    "from Book import views\n",
    "\n",
    "urlpatterns = [\n",
    "    path(\"admin/\", admin.site.urls),\n",
    "    path(\"api/\", views.StudentList.as_view()),\n",
    "    path(\"add/\",views.StudentCreate.as_view())\n",
    "]\n"
   ]
  },
  {
   "cell_type": "code",
   "execution_count": null,
   "metadata": {},
   "outputs": [],
   "source": [
    "# now create will do post :\n",
    "\n",
    " go to here :http://127.0.0.1:8000/add/\n",
    "\n",
    "and fill the details\n",
    "\n",
    "it will appear automicatically ,http://127.0.0.1:8000/admin , http://127.0.0.1:8000/api/"
   ]
  },
  {
   "cell_type": "markdown",
   "metadata": {},
   "source": [
    "# retrieveAPIView"
   ]
  },
  {
   "cell_type": "code",
   "execution_count": null,
   "metadata": {},
   "outputs": [],
   "source": [
    "#here update views.py:\n",
    "\n",
    "\n",
    "from django.shortcuts import render\n",
    "from .models import *\n",
    "from .serializers import *\n",
    "from rest_framework.generics import ListAPIView,CreateAPIView,RetrieveAPIView\n",
    "\n",
    "# Create your views here.\n",
    "class StudentList(ListAPIView):\n",
    "    queryset=Student.objects.all()\n",
    "    serializer_class=StudentSerializers\n",
    "\n",
    "\n",
    "# Create your views here.\n",
    "class StudentCreate(CreateAPIView):\n",
    "    queryset=Student.objects.all()\n",
    "    serializer_class=StudentSerializers\n",
    "\n",
    "# Create your views here.\n",
    "class Studentrev(RetrieveAPIView):\n",
    "    queryset=Student.objects.all()\n",
    "    serializer_class=StudentSerializers\n",
    "\n"
   ]
  },
  {
   "cell_type": "code",
   "execution_count": null,
   "metadata": {},
   "outputs": [],
   "source": [
    "# now urls.py :\n",
    "\n",
    "from django.contrib import admin\n",
    "from django.urls import path\n",
    "from Book import views\n",
    "\n",
    "urlpatterns = [\n",
    "    path(\"admin/\", admin.site.urls),\n",
    "    path(\"api/\", views.StudentList.as_view()),\n",
    "    path(\"add/\",views.StudentCreate.as_view()),\n",
    "    path(\"display/<int:pk>/\", views.Studentrev.as_view())\n",
    "]\n"
   ]
  },
  {
   "cell_type": "code",
   "execution_count": null,
   "metadata": {},
   "outputs": [],
   "source": [
    "http://127.0.0.1:8000/display/3/\n",
    "\n",
    "it will display date , give any id number"
   ]
  },
  {
   "cell_type": "code",
   "execution_count": null,
   "metadata": {},
   "outputs": [],
   "source": []
  },
  {
   "cell_type": "markdown",
   "metadata": {},
   "source": [
    "# updateAPIView"
   ]
  },
  {
   "cell_type": "code",
   "execution_count": null,
   "metadata": {},
   "outputs": [],
   "source": [
    "# update this :\n",
    "\n",
    "from django.shortcuts import render\n",
    "from .models import *\n",
    "from .serializers import *\n",
    "from rest_framework.generics import ListAPIView,CreateAPIView,RetrieveAPIView,UpdateAPIView\n",
    "\n",
    "# Create your views here.\n",
    "class StudentList(ListAPIView):\n",
    "    queryset=Student.objects.all()\n",
    "    serializer_class=StudentSerializers\n",
    "\n",
    "\n",
    "# Create your views here.\n",
    "class StudentCreate(CreateAPIView):\n",
    "    queryset=Student.objects.all()\n",
    "    serializer_class=StudentSerializers\n",
    "\n",
    "# Create your views here.\n",
    "class Studentrev(RetrieveAPIView):\n",
    "    queryset=Student.objects.all()\n",
    "    serializer_class=StudentSerializers\n",
    "\n",
    "\n",
    "class StudentUp(UpdateAPIView):\n",
    "    queryset=Student.objects.all()\n",
    "    serializer_class=StudentSerializers\n"
   ]
  },
  {
   "cell_type": "code",
   "execution_count": null,
   "metadata": {},
   "outputs": [],
   "source": [
    "# updsate "
   ]
  },
  {
   "cell_type": "code",
   "execution_count": null,
   "metadata": {},
   "outputs": [],
   "source": [
    "# now open : http://127.0.0.1:8000/update/1/\n",
    "\n",
    "fill the new details it will appear wth updated in admin etc"
   ]
  },
  {
   "cell_type": "code",
   "execution_count": null,
   "metadata": {},
   "outputs": [],
   "source": []
  },
  {
   "cell_type": "markdown",
   "metadata": {},
   "source": [
    "# destroyAPIView"
   ]
  },
  {
   "cell_type": "code",
   "execution_count": null,
   "metadata": {},
   "outputs": [],
   "source": [
    "from django.shortcuts import render\n",
    "from .models import *\n",
    "from .serializers import *\n",
    "from rest_framework.generics import ListAPIView,CreateAPIView,RetrieveAPIView,UpdateAPIView,DestroyAPIView\n",
    "\n",
    "# Create your views here.\n",
    "class StudentList(ListAPIView):\n",
    "    queryset=Student.objects.all()\n",
    "    serializer_class=StudentSerializers\n",
    "\n",
    "\n",
    "# Create your views here.\n",
    "class StudentCreate(CreateAPIView):\n",
    "    queryset=Student.objects.all()\n",
    "    serializer_class=StudentSerializers\n",
    "\n",
    "# Create your views here.\n",
    "class Studentrev(RetrieveAPIView):\n",
    "    queryset=Student.objects.all()\n",
    "    serializer_class=StudentSerializers\n",
    "\n",
    "\n",
    "class StudentUp(UpdateAPIView):\n",
    "    queryset=Student.objects.all()\n",
    "    serializer_class=StudentSerializers\n",
    "\n",
    "\n",
    "class StudentUp(UpdateAPIView):\n",
    "    queryset=Student.objects.all()\n",
    "    serializer_class=StudentSerializers\n",
    "\n",
    "\n",
    "class Studentdel(DestroyAPIView):\n",
    "    queryset=Student.objects.all()\n",
    "    serializer_class=StudentSerializers\n",
    "\n"
   ]
  },
  {
   "cell_type": "code",
   "execution_count": null,
   "metadata": {},
   "outputs": [],
   "source": [
    "\"\"\"\n",
    "URL configuration for Books project.\n",
    "\n",
    "The `urlpatterns` list routes URLs to views. For more information please see:\n",
    "    https://docs.djangoproject.com/en/4.2/topics/http/urls/\n",
    "Examples:\n",
    "Function views\n",
    "    1. Add an import:  from my_app import views\n",
    "    2. Add a URL to urlpatterns:  path('', views.home, name='home')\n",
    "Class-based views\n",
    "    1. Add an import:  from other_app.views import Home\n",
    "    2. Add a URL to urlpatterns:  path('', Home.as_view(), name='home')\n",
    "Including another URLconf\n",
    "    1. Import the include() function: from django.urls import include, path\n",
    "    2. Add a URL to urlpatterns:  path('blog/', include('blog.urls'))\n",
    "\"\"\"\n",
    "from django.contrib import admin\n",
    "from django.urls import path\n",
    "from Book import views\n",
    "\n",
    "urlpatterns = [\n",
    "    path(\"admin/\", admin.site.urls),\n",
    "    path(\"api/\", views.StudentList.as_view()),\n",
    "    path(\"add/\",views.StudentCreate.as_view()),\n",
    "    path(\"display/<int:pk>/\", views.Studentrev.as_view()),\n",
    "    path(\"update/<int:pk>/\", views.StudentUp.as_view()),\n",
    "    path(\"delete/<int:pk>/\", views.Studentdel.as_view()),\n",
    "]\n",
    "\n",
    "\n"
   ]
  },
  {
   "cell_type": "code",
   "execution_count": null,
   "metadata": {},
   "outputs": [],
   "source": [
    "#now open this : http://127.0.0.1:8000/delete/2/\n",
    "\n",
    "delete this , and everywhere it was deleted"
   ]
  }
 ],
 "metadata": {
  "language_info": {
   "name": "python"
  }
 },
 "nbformat": 4,
 "nbformat_minor": 2
}
