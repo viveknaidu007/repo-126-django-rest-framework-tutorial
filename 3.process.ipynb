{
 "cells": [
  {
   "cell_type": "code",
   "execution_count": null,
   "metadata": {},
   "outputs": [],
   "source": [
    "# now : quickstart.vews udpate "
   ]
  },
  {
   "cell_type": "code",
   "execution_count": null,
   "metadata": {},
   "outputs": [],
   "source": [
    "#before :\n",
    "\n",
    "from django.shortcuts import render\n",
    "\n",
    "# Create your views here.\n"
   ]
  },
  {
   "cell_type": "code",
   "execution_count": null,
   "metadata": {},
   "outputs": [],
   "source": [
    "# after :\n",
    "\n",
    "from django.shortcuts import render\n",
    "from rest_framework.decorators import api_view\n",
    "from rest_framework.response import Response\n",
    "\n",
    "\n",
    "# Create your views here.\n",
    "@api_view()\n",
    "def home(request):\n",
    "    return Response({'status':200, 'message':\"this is 1st rest api\"})"
   ]
  },
  {
   "cell_type": "code",
   "execution_count": null,
   "metadata": {},
   "outputs": [],
   "source": [
    "# now : quickstart:\n",
    "\n",
    "# create urls.py \n",
    "\n",
    "# add this :\n",
    "\n",
    "from django.contrib import admin\n",
    "from django.urls import path\n",
    "from .views import *\n",
    "\n",
    "urlpatterns = [\n",
    "    path(\"\", home),\n",
    "]\n"
   ]
  },
  {
   "cell_type": "code",
   "execution_count": null,
   "metadata": {},
   "outputs": [],
   "source": [
    "# now : tutorial.urls.py :\n",
    "\n",
    "#before:\n",
    "\n",
    "from django.contrib import admin\n",
    "from django.urls import path\n",
    "\n",
    "urlpatterns = [\n",
    "    path(\"admin/\", admin.site.urls),\n",
    "]\n"
   ]
  },
  {
   "cell_type": "code",
   "execution_count": null,
   "metadata": {},
   "outputs": [],
   "source": [
    "#after :\n",
    "\n",
    "from django.contrib import admin\n",
    "from django.urls import path,include\n",
    "\n",
    "urlpatterns = [\n",
    "    path(\"\", include('quickstart.urls')),\n",
    "]\n"
   ]
  },
  {
   "cell_type": "code",
   "execution_count": null,
   "metadata": {},
   "outputs": [],
   "source": [
    "# now run :\n",
    "\n",
    "# python manage.py runserver"
   ]
  },
  {
   "cell_type": "code",
   "execution_count": null,
   "metadata": {},
   "outputs": [],
   "source": [
    "#output :"
   ]
  },
  {
   "cell_type": "markdown",
   "metadata": {},
   "source": [
    "![P](img\\img6.png)"
   ]
  },
  {
   "cell_type": "code",
   "execution_count": null,
   "metadata": {},
   "outputs": [],
   "source": [
    "#hence we can check in postamn api in ur pc , for how the routes are working perfectly or not "
   ]
  },
  {
   "cell_type": "markdown",
   "metadata": {},
   "source": [
    "![p](img\\img7.png)"
   ]
  },
  {
   "cell_type": "code",
   "execution_count": null,
   "metadata": {},
   "outputs": [],
   "source": [
    "#now im updating 'POST': quickstart.views:\n",
    "\n",
    "#before :\n",
    "\n",
    "# Create your views here.\n",
    "@api_view()\n",
    "def home(request):\n",
    "    return Response({'status':200, 'message':\"this is 1st rest api\"})\n",
    "\n",
    "\n",
    "#after:\n",
    "\n",
    "# Create your views here.\n",
    "@api_view(['POST'])\n",
    "def home(request):\n",
    "    return Response({'status':200, 'message':\"this is 1st rest api\"})\n",
    "\n",
    "# after:\n",
    "\n",
    "# Create your views here.\n",
    "@api_view(['POST'],['GET'])\n",
    "def home(request):\n",
    "    return Response({'status':200, 'message':\"this is 1st rest api\"})\n",
    "\n"
   ]
  }
 ],
 "metadata": {
  "language_info": {
   "name": "python"
  }
 },
 "nbformat": 4,
 "nbformat_minor": 2
}
