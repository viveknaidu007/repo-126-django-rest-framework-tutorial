{
 "cells": [
  {
   "cell_type": "code",
   "execution_count": null,
   "metadata": {},
   "outputs": [],
   "source": []
  },
  {
   "cell_type": "markdown",
   "metadata": {},
   "source": [
    "![p](img\\img34.png)"
   ]
  },
  {
   "cell_type": "code",
   "execution_count": null,
   "metadata": {},
   "outputs": [],
   "source": [
    "#  views.py\n",
    "\n",
    "from django.shortcuts import render\n",
    "from rest_framework.response import Response\n",
    "from .models import *\n",
    "from .serializers import *\n",
    "from rest_framework import status\n",
    "from rest_framework import viewsets\n",
    "\n",
    "\n",
    "\n",
    "class Studentviewset(viewsets.ModelViewSet):\n",
    "    queryset=Student.objects.all()\n",
    "    serializer_class=StudentSerializer\n",
    "\n"
   ]
  },
  {
   "cell_type": "code",
   "execution_count": null,
   "metadata": {},
   "outputs": [],
   "source": [
    "# urls.py :\n",
    "\n",
    "\n",
    "from django.contrib import admin\n",
    "from django.urls import path , include\n",
    "from Book import views\n",
    "from rest_framework.routers import DefaultRouter\n",
    "\n",
    "router=DefaultRouter()\n",
    "router.register(\"api\",views.Studentviewset,basename=\"student\")\n",
    "\n",
    "urlpatterns = [\n",
    "    path(\"admin/\", admin.site.urls),\n",
    "    path(\"\",include(router.urls)),\n",
    "]\n"
   ]
  },
  {
   "cell_type": "code",
   "execution_count": null,
   "metadata": {},
   "outputs": [],
   "source": [
    "# here go this : http://127.0.0.1:8000/api/\n",
    "\n",
    "# add some data  , it will data all data including prevrious "
   ]
  }
 ],
 "metadata": {
  "language_info": {
   "name": "python"
  }
 },
 "nbformat": 4,
 "nbformat_minor": 2
}
