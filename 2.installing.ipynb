{
 "cells": [
  {
   "cell_type": "code",
   "execution_count": 1,
   "metadata": {},
   "outputs": [
    {
     "name": "stdout",
     "output_type": "stream",
     "text": [
      "Requirement already satisfied: djangorestframework in c:\\users\\poppo\\anaconda3\\envs\\django\\lib\\site-packages (3.14.0)\n",
      "Requirement already satisfied: django>=3.0 in c:\\users\\poppo\\anaconda3\\envs\\django\\lib\\site-packages (from djangorestframework) (4.2.7)\n",
      "Requirement already satisfied: pytz in c:\\users\\poppo\\anaconda3\\envs\\django\\lib\\site-packages (from djangorestframework) (2023.3.post1)\n",
      "Requirement already satisfied: asgiref<4,>=3.6.0 in c:\\users\\poppo\\anaconda3\\envs\\django\\lib\\site-packages (from django>=3.0->djangorestframework) (3.7.2)\n",
      "Requirement already satisfied: sqlparse>=0.3.1 in c:\\users\\poppo\\anaconda3\\envs\\django\\lib\\site-packages (from django>=3.0->djangorestframework) (0.4.4)\n",
      "Requirement already satisfied: tzdata in c:\\users\\poppo\\anaconda3\\envs\\django\\lib\\site-packages (from django>=3.0->djangorestframework) (2023.3)\n",
      "Requirement already satisfied: typing-extensions>=4 in c:\\users\\poppo\\anaconda3\\envs\\django\\lib\\site-packages (from asgiref<4,>=3.6.0->django>=3.0->djangorestframework) (4.12.2)\n"
     ]
    }
   ],
   "source": [
    "!pip install djangorestframework"
   ]
  },
  {
   "cell_type": "code",
   "execution_count": 2,
   "metadata": {},
   "outputs": [
    {
     "name": "stdout",
     "output_type": "stream",
     "text": [
      "Collecting markdown\n",
      "  Using cached Markdown-3.6-py3-none-any.whl.metadata (7.0 kB)\n",
      "Using cached Markdown-3.6-py3-none-any.whl (105 kB)\n",
      "Installing collected packages: markdown\n",
      "Successfully installed markdown-3.6\n"
     ]
    },
    {
     "name": "stderr",
     "output_type": "stream",
     "text": [
      "ERROR: pip's dependency resolver does not currently take into account all the packages that are installed. This behaviour is the source of the following dependency conflicts.\n",
      "tensorboard 2.13.0 requires google-auth<3,>=1.6.3, which is not installed.\n",
      "tensorboard 2.13.0 requires grpcio>=1.48.2, which is not installed.\n",
      "tensorboard 2.13.0 requires numpy>=1.12.0, which is not installed.\n",
      "tensorboard 2.13.0 requires requests<3,>=2.21.0, which is not installed.\n",
      "tensorboard 2.13.0 requires werkzeug>=1.0.1, which is not installed.\n",
      "tensorflow-intel 2.13.0 requires grpcio<2.0,>=1.24.3, which is not installed.\n",
      "tensorflow-intel 2.13.0 requires h5py>=2.9.0, which is not installed.\n",
      "tensorflow-intel 2.13.0 requires numpy<=1.24.3,>=1.22, which is not installed.\n",
      "tensorflow-intel 2.13.0 requires wrapt>=1.11.0, which is not installed.\n",
      "tensorflow-intel 2.13.0 requires typing-extensions<4.6.0,>=3.6.6, but you have typing-extensions 4.12.2 which is incompatible.\n"
     ]
    }
   ],
   "source": [
    "!pip install markdown"
   ]
  },
  {
   "cell_type": "code",
   "execution_count": 3,
   "metadata": {},
   "outputs": [
    {
     "name": "stdout",
     "output_type": "stream",
     "text": [
      "Collecting django-filter\n",
      "  Downloading django_filter-24.2-py3-none-any.whl.metadata (5.1 kB)\n",
      "Requirement already satisfied: Django>=4.2 in c:\\users\\poppo\\anaconda3\\envs\\django\\lib\\site-packages (from django-filter) (4.2.7)\n",
      "Requirement already satisfied: asgiref<4,>=3.6.0 in c:\\users\\poppo\\anaconda3\\envs\\django\\lib\\site-packages (from Django>=4.2->django-filter) (3.7.2)\n",
      "Requirement already satisfied: sqlparse>=0.3.1 in c:\\users\\poppo\\anaconda3\\envs\\django\\lib\\site-packages (from Django>=4.2->django-filter) (0.4.4)\n",
      "Requirement already satisfied: tzdata in c:\\users\\poppo\\anaconda3\\envs\\django\\lib\\site-packages (from Django>=4.2->django-filter) (2023.3)\n",
      "Requirement already satisfied: typing-extensions>=4 in c:\\users\\poppo\\anaconda3\\envs\\django\\lib\\site-packages (from asgiref<4,>=3.6.0->Django>=4.2->django-filter) (4.12.2)\n",
      "Downloading django_filter-24.2-py3-none-any.whl (94 kB)\n",
      "   ---------------------------------------- 0.0/94.5 kB ? eta -:--:--\n",
      "   ---- ----------------------------------- 10.2/94.5 kB ? eta -:--:--\n",
      "   ---- ----------------------------------- 10.2/94.5 kB ? eta -:--:--\n",
      "   ------------ --------------------------- 30.7/94.5 kB 262.6 kB/s eta 0:00:01\n",
      "   ------------------------- -------------- 61.4/94.5 kB 409.6 kB/s eta 0:00:01\n",
      "   ---------------------------------------- 94.5/94.5 kB 490.1 kB/s eta 0:00:00\n",
      "Installing collected packages: django-filter\n",
      "Successfully installed django-filter-24.2\n"
     ]
    }
   ],
   "source": [
    "!pip install django-filter"
   ]
  },
  {
   "cell_type": "code",
   "execution_count": null,
   "metadata": {},
   "outputs": [],
   "source": [
    "# install thunder client in vscode extention"
   ]
  },
  {
   "cell_type": "markdown",
   "metadata": {},
   "source": [
    "![p](img\\img5.png)"
   ]
  },
  {
   "cell_type": "code",
   "execution_count": null,
   "metadata": {},
   "outputs": [],
   "source": [
    "# for documentation:\n",
    "\n",
    "# https://www.django-rest-framework.org/"
   ]
  },
  {
   "cell_type": "code",
   "execution_count": null,
   "metadata": {},
   "outputs": [],
   "source": [
    "django-admin startproject tutorial"
   ]
  },
  {
   "cell_type": "code",
   "execution_count": null,
   "metadata": {},
   "outputs": [],
   "source": [
    "django-admin startapp quickstart"
   ]
  },
  {
   "cell_type": "code",
   "execution_count": null,
   "metadata": {},
   "outputs": [],
   "source": [
    "# now we have to add 'rest_framework' in settings.py at instaled_apps\n",
    "# and also we have to give app name also in settings.py"
   ]
  }
 ],
 "metadata": {
  "kernelspec": {
   "display_name": "django",
   "language": "python",
   "name": "python3"
  },
  "language_info": {
   "codemirror_mode": {
    "name": "ipython",
    "version": 3
   },
   "file_extension": ".py",
   "mimetype": "text/x-python",
   "name": "python",
   "nbconvert_exporter": "python",
   "pygments_lexer": "ipython3",
   "version": "3.10.14"
  }
 },
 "nbformat": 4,
 "nbformat_minor": 2
}
