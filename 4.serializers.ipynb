{
 "cells": [
  {
   "cell_type": "code",
   "execution_count": null,
   "metadata": {},
   "outputs": [],
   "source": [
    "# serializers in Django RestFramework"
   ]
  },
  {
   "cell_type": "markdown",
   "metadata": {},
   "source": [
    "![p](img\\img8.png)"
   ]
  },
  {
   "cell_type": "code",
   "execution_count": null,
   "metadata": {},
   "outputs": [],
   "source": [
    "# now add this : quickstart.models:\n",
    "\n",
    "from django.db import models\n",
    "\n",
    "# Create your models here.\n",
    "\n",
    "class Student(models.Model):\n",
    "    name = models.CharField(max_length=50)\n",
    "    age = models.IntegerField()\n",
    "    fathername = models.CharField(max_length=50)"
   ]
  },
  {
   "cell_type": "code",
   "execution_count": null,
   "metadata": {},
   "outputs": [],
   "source": [
    "# now we have to register on admin.py:\n",
    "\n",
    "#before:\n",
    "\n",
    "from django.contrib import admin\n",
    "# Register your models here.\n",
    "\n",
    "#after:\n",
    "\n",
    "from django.contrib import admin\n",
    "from .models import *\n",
    "# Register your models here.\n",
    "\n",
    "admin.site.register(Student)\n",
    "\n",
    "\n",
    "\n",
    "\n",
    "# why this register in admin:\n",
    "# telugu : admin lo register aithey , akada nunchi data in pampadaniki esy ga untadi"
   ]
  },
  {
   "cell_type": "code",
   "execution_count": null,
   "metadata": {},
   "outputs": [],
   "source": [
    "#hence we will crate serializers.py in our app:\n",
    "\n",
    "from rest_framework import serializers\n",
    "from .models import *\n",
    "\n",
    "\n",
    "class StudentSerializer(serializers.ModelSerializer):\n",
    "    class Meta:\n",
    "        model = Student\n",
    "        fields='__all__'"
   ]
  },
  {
   "cell_type": "code",
   "execution_count": null,
   "metadata": {},
   "outputs": [],
   "source": [
    "# u have to tdo this must:\n",
    "\n",
    "# python manage.py makemigrations\n",
    "# python manage.py migrate\n",
    " "
   ]
  },
  {
   "cell_type": "code",
   "execution_count": null,
   "metadata": {},
   "outputs": [],
   "source": [
    "# now we have to create : createsuperuser\n",
    "\n",
    "#python manage.py createsuperuser"
   ]
  },
  {
   "cell_type": "code",
   "execution_count": null,
   "metadata": {},
   "outputs": [],
   "source": [
    "# model nunchi data view loki vastadi "
   ]
  },
  {
   "cell_type": "code",
   "execution_count": null,
   "metadata": {},
   "outputs": [],
   "source": [
    "# now at : quickstart.views.py\n",
    "\n",
    "from django.shortcuts import render\n",
    "from rest_framework.decorators import api_view\n",
    "from rest_framework.response import Response\n",
    "from .models import *\n",
    "from .serializers import *\n",
    "\n",
    "# Create your views here.\n",
    "@api_view(['GET'])\n",
    "def home(request):\n",
    "    student_obj = Student.objects.all()\n",
    "    serializer = StudentSerializer(student_obj,many=True)\n",
    "\n",
    "\n",
    "    return Response({'status':200, 'payload':serializer.data})\n",
    "\n",
    "@api_view(['POST'])\n",
    "def post_student(request):\n",
    "    data=request.data\n",
    "    print(data)\n",
    "    return Response({'status':200,'payload':data})"
   ]
  },
  {
   "cell_type": "code",
   "execution_count": null,
   "metadata": {},
   "outputs": [],
   "source": [
    "# now : at quickstart.urls.py:\n",
    "\n",
    "from django.contrib import admin\n",
    "from django.urls import path\n",
    "from .views import *\n",
    "\n",
    "urlpatterns = [\n",
    "    path(\"\", home),\n",
    "    path(\"student/\",post_student),\n",
    "]\n"
   ]
  },
  {
   "cell_type": "code",
   "execution_count": null,
   "metadata": {},
   "outputs": [],
   "source": [
    "# update this in : tutorial.urls.py:\n",
    "\n",
    "from django.contrib import admin\n",
    "from django.urls import path,include\n",
    "\n",
    "urlpatterns = [\n",
    "    path(\"\", include('quickstart.urls')),\n",
    "    path(\"admin/\",admin.site.urls),\n",
    "]\n",
    "\n",
    "#because ikkadanunchi data pass cheastham kabatti"
   ]
  },
  {
   "cell_type": "code",
   "execution_count": null,
   "metadata": {},
   "outputs": [],
   "source": [
    "# now run the django\n",
    "\n",
    "# go to he admin:\n",
    "\n",
    "# add the student deatuils\n",
    "\n",
    "# now go to this addres \"http://127.0.0.1:8000/\" , it will display the data we created in admin"
   ]
  }
 ],
 "metadata": {
  "language_info": {
   "name": "python"
  }
 },
 "nbformat": 4,
 "nbformat_minor": 2
}
