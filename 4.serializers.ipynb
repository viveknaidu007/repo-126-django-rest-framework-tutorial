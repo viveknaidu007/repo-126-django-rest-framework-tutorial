{
 "cells": [
  {
   "cell_type": "code",
   "execution_count": null,
   "metadata": {},
   "outputs": [],
   "source": [
    "# serializers in Django RestFramework"
   ]
  },
  {
   "cell_type": "markdown",
   "metadata": {},
   "source": [
    "![p](img\\img8.png)"
   ]
  },
  {
   "cell_type": "code",
   "execution_count": null,
   "metadata": {},
   "outputs": [],
   "source": [
    "# now add this : quickstart.models:\n",
    "\n",
    "from django.db import models\n",
    "\n",
    "# Create your models here.\n",
    "\n",
    "class Student(models.Model):\n",
    "    name = models.CharField(max_length=50)\n",
    "    age = models.IntegerField()\n",
    "    fathername = models.CharField(max_length=50)"
   ]
  },
  {
   "cell_type": "code",
   "execution_count": null,
   "metadata": {},
   "outputs": [],
   "source": [
    "# now we have to register on admin.py:\n",
    "\n",
    "#before:\n",
    "\n",
    "from django.contrib import admin\n",
    "# Register your models here.\n",
    "\n",
    "#after:\n",
    "\n",
    "from django.contrib import admin\n",
    "from .models import *\n",
    "# Register your models here.\n",
    "\n",
    "admin.site.register(Student)\n",
    "\n",
    "\n",
    "\n",
    "\n",
    "# why this register in admin:\n",
    "# telugu : admin lo register aithey , akada nunchi data in pampadaniki esy ga untadi"
   ]
  },
  {
   "cell_type": "code",
   "execution_count": null,
   "metadata": {},
   "outputs": [],
   "source": [
    "#hence we will crate serializers.py in our app:\n",
    "\n",
    "from rest_framework import serializers\n",
    "from .models import *\n",
    "\n",
    "\n",
    "class StudentSerializer(serializers.ModelSerializer):\n",
    "    class Meta:\n",
    "        fields='__all__'"
   ]
  },
  {
   "cell_type": "code",
   "execution_count": null,
   "metadata": {},
   "outputs": [],
   "source": [
    "# u have to tdo this must:\n",
    "\n",
    "# python manage.py makemigrations\n",
    "# python manage.py migrate\n",
    " "
   ]
  },
  {
   "cell_type": "code",
   "execution_count": null,
   "metadata": {},
   "outputs": [],
   "source": [
    "# now we have to create : createsuperuser\n",
    "\n",
    "#python manage.py createsuperuser"
   ]
  },
  {
   "cell_type": "code",
   "execution_count": null,
   "metadata": {},
   "outputs": [],
   "source": [
    "# model nunchi data view loki vastadi "
   ]
  },
  {
   "cell_type": "code",
   "execution_count": null,
   "metadata": {},
   "outputs": [],
   "source": []
  }
 ],
 "metadata": {
  "language_info": {
   "name": "python"
  }
 },
 "nbformat": 4,
 "nbformat_minor": 2
}
