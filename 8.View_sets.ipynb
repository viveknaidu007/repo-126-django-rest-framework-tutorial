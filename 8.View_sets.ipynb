{
 "cells": [
  {
   "cell_type": "code",
   "execution_count": null,
   "metadata": {},
   "outputs": [],
   "source": []
  },
  {
   "cell_type": "markdown",
   "metadata": {},
   "source": [
    "# View Sets"
   ]
  },
  {
   "cell_type": "markdown",
   "metadata": {},
   "source": [
    "![p](img\\img33.png)"
   ]
  },
  {
   "cell_type": "code",
   "execution_count": null,
   "metadata": {},
   "outputs": [],
   "source": [
    "#rotuers vadatham urls lo configuration chesatham , "
   ]
  },
  {
   "cell_type": "code",
   "execution_count": null,
   "metadata": {},
   "outputs": [],
   "source": [
    "# serializers.py:\n",
    "\n",
    "\n",
    "from rest_framework import serializers\n",
    "from .models import *\n",
    "\n",
    "class StudentSerializer(serializers.ModelSerializer):\n",
    "    class Meta:\n",
    "        model = Student\n",
    "        fields = \"__all__\""
   ]
  },
  {
   "cell_type": "code",
   "execution_count": null,
   "metadata": {},
   "outputs": [],
   "source": [
    "from django.shortcuts import render\n",
    "from rest_framework.response import Response\n",
    "from .models import *\n",
    "from .serializers import *\n",
    "from rest_framework import status\n",
    "from rest_framework import viewsets\n",
    "\n",
    "\n",
    "# Create your views here.\n",
    "class Studentviewset(viewsets.ViewSet):\n",
    "    def list(self,request):\n",
    "        queryset=Student.objects.all()\n",
    "        serializer=StudentSerializer(queryset,many=True)\n",
    "\n",
    "    def retriever(self,request,pk=None):\n",
    "        id=pk\n",
    "        if id is not None:\n",
    "                    queryset=Student.objects.all()\n",
    "                    serializer=StudentSerializer(queryset,many=True)\n",
    "                    return Response(serializer.data)\n",
    "        \n",
    "\n",
    "    def update(self,request,pk):\n",
    "         id=pk\n",
    "         queryset=Student.objects.get(pk=id)\n",
    "         serializer=StudentSerializer(queryset,data=request.data)\n",
    "         if serializer.is_valid():\n",
    "              serializer.save()\n",
    "              return Response({\"msg\":\"complete data updated\"})\n",
    "         return Response(serializer.errors,status=status.HTTP_400_BAD_REQUEST)\n",
    "    \n",
    "    def destroy(self,request,pk):\n",
    "         id=pk\n",
    "         queryset=Student.objects.get(pk=id)\n",
    "         queryset.delete()\n",
    "         return Response({\"msg\":\"deleted\"})\n",
    "    \n",
    "\n",
    "    def create(self,request):\n",
    "         serializer=StudentSerializer(data=request.data)\n",
    "         if serializer.is_valid():\n",
    "              serializer.save()\n",
    "              return Response({\"msg\":\"complete data created\"})\n",
    "         return Response(serializer.errors,status=status.HTTP_400_BAD_REQUEST)\n"
   ]
  },
  {
   "cell_type": "code",
   "execution_count": null,
   "metadata": {},
   "outputs": [],
   "source": [
    "from django.contrib import admin\n",
    "from django.urls import path , include\n",
    "from Book import views\n",
    "from rest_framework.routers import DefaultRouter\n",
    "\n",
    "router=DefaultRouter()\n",
    "router.register(\"api\",views.Studentviewset,basename=\"student\")\n",
    "\n",
    "urlpatterns = [\n",
    "    path(\"admin/\", admin.site.urls),\n",
    "    path(\"\",include(router.urls)),\n",
    "]\n"
   ]
  }
 ],
 "metadata": {
  "language_info": {
   "name": "python"
  }
 },
 "nbformat": 4,
 "nbformat_minor": 2
}
